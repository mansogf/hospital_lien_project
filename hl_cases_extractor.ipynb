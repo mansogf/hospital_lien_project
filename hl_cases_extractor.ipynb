{
 "cells": [
  {
   "cell_type": "code",
   "execution_count": 1,
   "metadata": {},
   "outputs": [],
   "source": [
    "import time\n",
    "import datetime\n",
    "import pandas as pd\n",
    "import chromedriver_binary\n",
    "from tqdm import tqdm\n",
    "from selenium import webdriver\n",
    "from bs4 import BeautifulSoup\n",
    "from selenium.webdriver.common.by import By\n",
    "from selenium.webdriver.common.keys import Keys\n",
    "import numpy as np\n",
    "\n",
    "pd.set_option(\"display.max_rows\",\n",
    "              None, \n",
    "              \"display.max_columns\",\n",
    "              None)"
   ]
  },
  {
   "cell_type": "code",
   "execution_count": 2,
   "metadata": {},
   "outputs": [
    {
     "data": {
      "text/plain": [
       "'/opt/homebrew/lib/python3.9/site-packages/chromedriver_autoinstaller/111/chromedriver'"
      ]
     },
     "execution_count": 2,
     "metadata": {},
     "output_type": "execute_result"
    }
   ],
   "source": [
    "import chromedriver_autoinstaller as chromedriver\n",
    "chromedriver.install()"
   ]
  },
  {
   "cell_type": "code",
   "execution_count": 3,
   "metadata": {},
   "outputs": [],
   "source": [
    "browser = webdriver.Chrome()"
   ]
  },
  {
   "cell_type": "code",
   "execution_count": 4,
   "metadata": {},
   "outputs": [],
   "source": [
    "dates = pd.date_range(start='1/1/2015', end='1/1/2021', freq='15D').format()\n",
    "\n",
    "start_dates = dates[:-1]\n",
    "end_dates = dates[1:]\n",
    "\n",
    "date_intervals = list(zip(start_dates, end_dates))"
   ]
  },
  {
   "cell_type": "code",
   "execution_count": 5,
   "metadata": {},
   "outputs": [],
   "source": [
    "def html_extractor():\n",
    "\n",
    "    html=browser.page_source\n",
    "\n",
    "    soup=BeautifulSoup(html,'html.parser')\n",
    "\n",
    "    time.sleep(3)\n",
    "\n",
    "    table = soup.find('table', {'class': 'dataTable no-footer'})\n",
    "\n",
    "    return table\n",
    "\n",
    "def scrape(date_intervals_list):\n",
    "    \n",
    "    page_cases = []\n",
    "    failed_search = []\n",
    "\n",
    "    for i, j in tqdm(date_intervals_list):\n",
    "\n",
    "        browser.get(\"https://wcca.wicourts.gov/advanced.html\")\n",
    "\n",
    "        time.sleep(3)\n",
    "\n",
    "        case_type = browser.find_element(By.XPATH, \"//*[@id='react-select-5--value']/div[2]/input\")\n",
    "        case_type.send_keys('Hospital Lien (HL)' + Keys.ENTER)\n",
    "\n",
    "        start_date = browser.find_element(By.XPATH, '//*[@id=\"home-container\"]/main/div/form/div[6]/div/div/label/div/div/div[1]/div/label/div/div[2]/div/div[2]/div/div/div/input')\n",
    "        start_date.send_keys(i + Keys.ENTER)\n",
    "\n",
    "        end_date = browser.find_element(By.XPATH, '//*[@id=\"home-container\"]/main/div/form/div[6]/div/div/label/div/div/div[2]/div/label/div/div[2]/div/div[2]/div/div/div/input')\n",
    "        end_date.send_keys(j + Keys.ENTER)\n",
    "\n",
    "        time.sleep(5)\n",
    "\n",
    "        search = browser.find_element(By.NAME, \"search\")\n",
    "        search.click()\n",
    "\n",
    "        time.sleep(10)\n",
    "\n",
    "        if i == '2015-01-01':\n",
    "\n",
    "            entries_btn = browser.find_element(By.XPATH, \"//*[@id='caseSearchResults_length']/label/select/option[5]\")\n",
    "            entries_btn.click()\n",
    "\n",
    "        try:\n",
    "\n",
    "            extracted_html = html_extractor()\n",
    "\n",
    "            cases_df = pd.read_html(str(extracted_html), header=0)[0].drop([0])\n",
    "            \n",
    "            page_cases.append(cases_df)\n",
    "\n",
    "        except:\n",
    "\n",
    "            failed_search.append(i)\n",
    "\n",
    "            print('Something went wrong trying to scrape: ' + i)\n",
    "            \n",
    "            pass\n",
    "\n",
    "    browser.close()\n",
    "\n",
    "    all_cases = pd.concat(page_cases)\n",
    "\n",
    "    print('Failed search: ' + str(failed_search))\n",
    "    \n",
    "    return all_cases\n",
    "\n",
    "\n",
    "def preprocessing(cases_df):\n",
    "\n",
    "    pp_df = cases_df.drop_duplicates()\n",
    "\n",
    "    pp_df = pp_df[['Case number', 'County name']]\n",
    "\n",
    "    pp_df = pp_df.reset_index(drop=True)\n",
    "\n",
    "    return pp_df"
   ]
  },
  {
   "cell_type": "code",
   "execution_count": 6,
   "metadata": {},
   "outputs": [
    {
     "name": "stderr",
     "output_type": "stream",
     "text": [
      "100%|██████████| 3/3 [01:25<00:00, 28.35s/it]"
     ]
    },
    {
     "name": "stdout",
     "output_type": "stream",
     "text": [
      "Failed search: []\n"
     ]
    },
    {
     "name": "stderr",
     "output_type": "stream",
     "text": [
      "\n"
     ]
    }
   ],
   "source": [
    "cases_df = scrape(date_intervals[:3])"
   ]
  },
  {
   "cell_type": "code",
   "execution_count": 7,
   "metadata": {},
   "outputs": [],
   "source": [
    "cases_df_cleaned = preprocessing(cases_df)"
   ]
  },
  {
   "cell_type": "code",
   "execution_count": 8,
   "metadata": {},
   "outputs": [
    {
     "data": {
      "text/html": [
       "<div>\n",
       "<style scoped>\n",
       "    .dataframe tbody tr th:only-of-type {\n",
       "        vertical-align: middle;\n",
       "    }\n",
       "\n",
       "    .dataframe tbody tr th {\n",
       "        vertical-align: top;\n",
       "    }\n",
       "\n",
       "    .dataframe thead th {\n",
       "        text-align: right;\n",
       "    }\n",
       "</style>\n",
       "<table border=\"1\" class=\"dataframe\">\n",
       "  <thead>\n",
       "    <tr style=\"text-align: right;\">\n",
       "      <th></th>\n",
       "      <th>Case number</th>\n",
       "      <th>County name</th>\n",
       "    </tr>\n",
       "  </thead>\n",
       "  <tbody>\n",
       "    <tr>\n",
       "      <th>0</th>\n",
       "      <td>2015HL000022</td>\n",
       "      <td>Dane</td>\n",
       "    </tr>\n",
       "    <tr>\n",
       "      <th>1</th>\n",
       "      <td>2015HL000021</td>\n",
       "      <td>Dane</td>\n",
       "    </tr>\n",
       "    <tr>\n",
       "      <th>2</th>\n",
       "      <td>2015HL000020</td>\n",
       "      <td>Dane</td>\n",
       "    </tr>\n",
       "    <tr>\n",
       "      <th>3</th>\n",
       "      <td>2015HL000002</td>\n",
       "      <td>Winnebago</td>\n",
       "    </tr>\n",
       "    <tr>\n",
       "      <th>4</th>\n",
       "      <td>2015HL000002</td>\n",
       "      <td>Outagamie</td>\n",
       "    </tr>\n",
       "  </tbody>\n",
       "</table>\n",
       "</div>"
      ],
      "text/plain": [
       "    Case number County name\n",
       "0  2015HL000022        Dane\n",
       "1  2015HL000021        Dane\n",
       "2  2015HL000020        Dane\n",
       "3  2015HL000002   Winnebago\n",
       "4  2015HL000002   Outagamie"
      ]
     },
     "execution_count": 8,
     "metadata": {},
     "output_type": "execute_result"
    }
   ],
   "source": [
    "cases_df_cleaned.head()"
   ]
  },
  {
   "cell_type": "code",
   "execution_count": 11,
   "metadata": {},
   "outputs": [],
   "source": [
    "cases_df_cleaned.to_excel('./data/hl_cases_sample.xlsx', index=False)"
   ]
  }
 ],
 "metadata": {
  "kernelspec": {
   "display_name": "Python 3.9.16 64-bit",
   "language": "python",
   "name": "python3"
  },
  "language_info": {
   "codemirror_mode": {
    "name": "ipython",
    "version": 3
   },
   "file_extension": ".py",
   "mimetype": "text/x-python",
   "name": "python",
   "nbconvert_exporter": "python",
   "pygments_lexer": "ipython3",
   "version": "3.9.16"
  },
  "orig_nbformat": 4,
  "vscode": {
   "interpreter": {
    "hash": "a665b5d41d17b532ea9890333293a1b812fa0b73c9c25c950b3cedf1bebd0438"
   }
  }
 },
 "nbformat": 4,
 "nbformat_minor": 2
}
